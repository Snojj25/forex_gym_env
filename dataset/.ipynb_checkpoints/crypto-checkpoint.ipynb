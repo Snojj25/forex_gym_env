{
 "cells": [
  {
   "cell_type": "code",
   "execution_count": 1,
   "metadata": {},
   "outputs": [],
   "source": [
    "import pandas as pd\n",
    "import numpy as np\n",
    "from collections import deque"
   ]
  },
  {
   "cell_type": "code",
   "execution_count": 2,
   "metadata": {},
   "outputs": [],
   "source": [
    "df = pd.read_csv(\n",
    "    \"C:/JURE_SNOJ/forex_gym/forex_gym_env/dataset/crypto/BTCUSD_M5.csv\",\n",
    "    sep= \",\",\n",
    "    header = None,\n",
    "    names = [\"date\", \"open\", \"high\", \"low\", \"close\", \"volume\"]\n",
    ")"
   ]
  },
  {
   "cell_type": "code",
   "execution_count": 3,
   "metadata": {},
   "outputs": [],
   "source": [
    "df[\"date\"] = pd.to_datetime(df[\"date\"])\n",
    "df['200_EMA'] = df.iloc[:,1].ewm(span=200,adjust=True).mean()\n",
    "df['50_EMA'] = df.iloc[:,1].ewm(span=50,adjust=True).mean()\n",
    "df['9_EMA'] = df.iloc[:,1].ewm(span=9,adjust=True).mean()"
   ]
  },
  {
   "cell_type": "code",
   "execution_count": 4,
   "metadata": {},
   "outputs": [],
   "source": [
    "EMA26 = df.iloc[:,1].ewm(span=26,adjust=True).mean()\n",
    "EMA12 = df.iloc[:,1].ewm(span=12,adjust=True).mean()\n",
    "df[\"MACD-diff\"] = EMA12 - EMA26\n",
    "df[\"MACD-signal\"] = df[\"MACD-diff\"].ewm(span=9,adjust=True).mean()"
   ]
  },
  {
   "cell_type": "code",
   "execution_count": 5,
   "metadata": {},
   "outputs": [],
   "source": [
    "L14 = df.loc[:,\"low\"].rolling(window=14).min()\n",
    "H14 = df.loc[:,\"high\"].rolling(window=14).max()\n",
    "C = df.loc[:, \"close\"]\n",
    "df[\"stochastic\"] = 100* (C - L14)/(H14 - L14)"
   ]
  },
  {
   "cell_type": "code",
   "execution_count": 7,
   "metadata": {},
   "outputs": [
    {
     "data": {
      "text/html": [
       "<div>\n",
       "<style scoped>\n",
       "    .dataframe tbody tr th:only-of-type {\n",
       "        vertical-align: middle;\n",
       "    }\n",
       "\n",
       "    .dataframe tbody tr th {\n",
       "        vertical-align: top;\n",
       "    }\n",
       "\n",
       "    .dataframe thead th {\n",
       "        text-align: right;\n",
       "    }\n",
       "</style>\n",
       "<table border=\"1\" class=\"dataframe\">\n",
       "  <thead>\n",
       "    <tr style=\"text-align: right;\">\n",
       "      <th></th>\n",
       "      <th>date</th>\n",
       "      <th>open</th>\n",
       "      <th>high</th>\n",
       "      <th>low</th>\n",
       "      <th>close</th>\n",
       "      <th>volume</th>\n",
       "      <th>200_EMA</th>\n",
       "      <th>50_EMA</th>\n",
       "      <th>9_EMA</th>\n",
       "      <th>MACD-diff</th>\n",
       "      <th>MACD-signal</th>\n",
       "      <th>stochastic</th>\n",
       "    </tr>\n",
       "  </thead>\n",
       "  <tbody>\n",
       "    <tr>\n",
       "      <th>199995</th>\n",
       "      <td>2020-06-23 23:35:00</td>\n",
       "      <td>9555.9</td>\n",
       "      <td>9558.9</td>\n",
       "      <td>9554.8</td>\n",
       "      <td>9558.4</td>\n",
       "      <td>3</td>\n",
       "      <td>9579.913995</td>\n",
       "      <td>9577.641854</td>\n",
       "      <td>9558.049038</td>\n",
       "      <td>-8.495461</td>\n",
       "      <td>-8.287108</td>\n",
       "      <td>29.431438</td>\n",
       "    </tr>\n",
       "    <tr>\n",
       "      <th>199996</th>\n",
       "      <td>2020-06-23 23:40:00</td>\n",
       "      <td>9557.8</td>\n",
       "      <td>9558.3</td>\n",
       "      <td>9544.8</td>\n",
       "      <td>9546.9</td>\n",
       "      <td>1</td>\n",
       "      <td>9579.693956</td>\n",
       "      <td>9576.863742</td>\n",
       "      <td>9557.999230</td>\n",
       "      <td>-8.038824</td>\n",
       "      <td>-8.237451</td>\n",
       "      <td>20.469799</td>\n",
       "    </tr>\n",
       "    <tr>\n",
       "      <th>199997</th>\n",
       "      <td>2020-06-23 23:45:00</td>\n",
       "      <td>9546.8</td>\n",
       "      <td>9554.7</td>\n",
       "      <td>9545.8</td>\n",
       "      <td>9554.1</td>\n",
       "      <td>1</td>\n",
       "      <td>9579.366653</td>\n",
       "      <td>9575.684772</td>\n",
       "      <td>9555.759384</td>\n",
       "      <td>-8.466942</td>\n",
       "      <td>-8.283349</td>\n",
       "      <td>44.630872</td>\n",
       "    </tr>\n",
       "    <tr>\n",
       "      <th>199998</th>\n",
       "      <td>2020-06-23 23:50:00</td>\n",
       "      <td>9554.2</td>\n",
       "      <td>9561.3</td>\n",
       "      <td>9554.1</td>\n",
       "      <td>9560.9</td>\n",
       "      <td>2</td>\n",
       "      <td>9579.116238</td>\n",
       "      <td>9574.842232</td>\n",
       "      <td>9555.447507</td>\n",
       "      <td>-8.115559</td>\n",
       "      <td>-8.249791</td>\n",
       "      <td>85.897436</td>\n",
       "    </tr>\n",
       "    <tr>\n",
       "      <th>199999</th>\n",
       "      <td>2020-06-23 23:55:00</td>\n",
       "      <td>9561.0</td>\n",
       "      <td>9566.1</td>\n",
       "      <td>9560.9</td>\n",
       "      <td>9565.9</td>\n",
       "      <td>2</td>\n",
       "      <td>9578.935977</td>\n",
       "      <td>9574.299399</td>\n",
       "      <td>9556.558006</td>\n",
       "      <td>-7.205325</td>\n",
       "      <td>-8.040898</td>\n",
       "      <td>99.061033</td>\n",
       "    </tr>\n",
       "  </tbody>\n",
       "</table>\n",
       "</div>"
      ],
      "text/plain": [
       "                      date    open    high     low   close  volume  \\\n",
       "199995 2020-06-23 23:35:00  9555.9  9558.9  9554.8  9558.4       3   \n",
       "199996 2020-06-23 23:40:00  9557.8  9558.3  9544.8  9546.9       1   \n",
       "199997 2020-06-23 23:45:00  9546.8  9554.7  9545.8  9554.1       1   \n",
       "199998 2020-06-23 23:50:00  9554.2  9561.3  9554.1  9560.9       2   \n",
       "199999 2020-06-23 23:55:00  9561.0  9566.1  9560.9  9565.9       2   \n",
       "\n",
       "            200_EMA       50_EMA        9_EMA  MACD-diff  MACD-signal  \\\n",
       "199995  9579.913995  9577.641854  9558.049038  -8.495461    -8.287108   \n",
       "199996  9579.693956  9576.863742  9557.999230  -8.038824    -8.237451   \n",
       "199997  9579.366653  9575.684772  9555.759384  -8.466942    -8.283349   \n",
       "199998  9579.116238  9574.842232  9555.447507  -8.115559    -8.249791   \n",
       "199999  9578.935977  9574.299399  9556.558006  -7.205325    -8.040898   \n",
       "\n",
       "        stochastic  \n",
       "199995   29.431438  \n",
       "199996   20.469799  \n",
       "199997   44.630872  \n",
       "199998   85.897436  \n",
       "199999   99.061033  "
      ]
     },
     "execution_count": 7,
     "metadata": {},
     "output_type": "execute_result"
    }
   ],
   "source": [
    "df.tail()"
   ]
  },
  {
   "cell_type": "code",
   "execution_count": null,
   "metadata": {},
   "outputs": [],
   "source": []
  },
  {
   "cell_type": "code",
   "execution_count": null,
   "metadata": {},
   "outputs": [],
   "source": []
  },
  {
   "cell_type": "code",
   "execution_count": null,
   "metadata": {},
   "outputs": [],
   "source": []
  },
  {
   "cell_type": "code",
   "execution_count": null,
   "metadata": {},
   "outputs": [],
   "source": [
    "state_iter = df.iterrows()\n",
    "state = next(state_iter)[1]\n",
    "print(state)"
   ]
  },
  {
   "cell_type": "code",
   "execution_count": null,
   "metadata": {},
   "outputs": [],
   "source": [
    "states = deque(maxlen = 60)"
   ]
  },
  {
   "cell_type": "code",
   "execution_count": null,
   "metadata": {},
   "outputs": [],
   "source": [
    "for i in range(60):\n",
    "    state = next(state_iter)[1]\n",
    "    states.append(state)"
   ]
  },
  {
   "cell_type": "code",
   "execution_count": null,
   "metadata": {},
   "outputs": [],
   "source": [
    "states.append([1,2,3,4,5,6])"
   ]
  },
  {
   "cell_type": "code",
   "execution_count": null,
   "metadata": {},
   "outputs": [],
   "source": []
  }
 ],
 "metadata": {
  "kernelspec": {
   "display_name": "Python 3",
   "language": "python",
   "name": "python3"
  },
  "language_info": {
   "codemirror_mode": {
    "name": "ipython",
    "version": 3
   },
   "file_extension": ".py",
   "mimetype": "text/x-python",
   "name": "python",
   "nbconvert_exporter": "python",
   "pygments_lexer": "ipython3",
   "version": "3.8.1"
  }
 },
 "nbformat": 4,
 "nbformat_minor": 4
}
