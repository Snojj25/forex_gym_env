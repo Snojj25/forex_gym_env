{
 "cells": [
  {
   "cell_type": "code",
   "execution_count": 1,
   "metadata": {},
   "outputs": [],
   "source": [
    "import pandas as pd"
   ]
  },
  {
   "cell_type": "code",
   "execution_count": 2,
   "metadata": {},
   "outputs": [],
   "source": [
    "df = pd.read_csv(\n",
    "    \"EURUSD1.csv\",\n",
    "    sep= \"\\t\",\n",
    "    names = [\"date\", \"open\", \"high\", \"low\", \"close\", \"volume\"]\n",
    ")"
   ]
  },
  {
   "cell_type": "code",
   "execution_count": 3,
   "metadata": {},
   "outputs": [
    {
     "data": {
      "text/html": [
       "<div>\n",
       "<style scoped>\n",
       "    .dataframe tbody tr th:only-of-type {\n",
       "        vertical-align: middle;\n",
       "    }\n",
       "\n",
       "    .dataframe tbody tr th {\n",
       "        vertical-align: top;\n",
       "    }\n",
       "\n",
       "    .dataframe thead th {\n",
       "        text-align: right;\n",
       "    }\n",
       "</style>\n",
       "<table border=\"1\" class=\"dataframe\">\n",
       "  <thead>\n",
       "    <tr style=\"text-align: right;\">\n",
       "      <th></th>\n",
       "      <th>date</th>\n",
       "      <th>open</th>\n",
       "      <th>high</th>\n",
       "      <th>low</th>\n",
       "      <th>close</th>\n",
       "      <th>volume</th>\n",
       "    </tr>\n",
       "  </thead>\n",
       "  <tbody>\n",
       "    <tr>\n",
       "      <th>0</th>\n",
       "      <td>2019-11-29 06:11</td>\n",
       "      <td>1.10101</td>\n",
       "      <td>1.10102</td>\n",
       "      <td>1.10097</td>\n",
       "      <td>1.10101</td>\n",
       "      <td>34</td>\n",
       "    </tr>\n",
       "    <tr>\n",
       "      <th>1</th>\n",
       "      <td>2019-11-29 06:12</td>\n",
       "      <td>1.10100</td>\n",
       "      <td>1.10101</td>\n",
       "      <td>1.10097</td>\n",
       "      <td>1.10100</td>\n",
       "      <td>80</td>\n",
       "    </tr>\n",
       "    <tr>\n",
       "      <th>2</th>\n",
       "      <td>2019-11-29 06:13</td>\n",
       "      <td>1.10099</td>\n",
       "      <td>1.10102</td>\n",
       "      <td>1.10099</td>\n",
       "      <td>1.10100</td>\n",
       "      <td>29</td>\n",
       "    </tr>\n",
       "    <tr>\n",
       "      <th>3</th>\n",
       "      <td>2019-11-29 06:14</td>\n",
       "      <td>1.10100</td>\n",
       "      <td>1.10101</td>\n",
       "      <td>1.10100</td>\n",
       "      <td>1.10101</td>\n",
       "      <td>14</td>\n",
       "    </tr>\n",
       "    <tr>\n",
       "      <th>4</th>\n",
       "      <td>2019-11-29 06:15</td>\n",
       "      <td>1.10101</td>\n",
       "      <td>1.10105</td>\n",
       "      <td>1.10100</td>\n",
       "      <td>1.10102</td>\n",
       "      <td>18</td>\n",
       "    </tr>\n",
       "  </tbody>\n",
       "</table>\n",
       "</div>"
      ],
      "text/plain": [
       "               date     open     high      low    close  volume\n",
       "0  2019-11-29 06:11  1.10101  1.10102  1.10097  1.10101      34\n",
       "1  2019-11-29 06:12  1.10100  1.10101  1.10097  1.10100      80\n",
       "2  2019-11-29 06:13  1.10099  1.10102  1.10099  1.10100      29\n",
       "3  2019-11-29 06:14  1.10100  1.10101  1.10100  1.10101      14\n",
       "4  2019-11-29 06:15  1.10101  1.10105  1.10100  1.10102      18"
      ]
     },
     "execution_count": 3,
     "metadata": {},
     "output_type": "execute_result"
    }
   ],
   "source": [
    "df.head()"
   ]
  },
  {
   "cell_type": "code",
   "execution_count": 4,
   "metadata": {},
   "outputs": [],
   "source": [
    "df[\"date\"] = pd.to_datetime(df[\"date\"])"
   ]
  },
  {
   "cell_type": "code",
   "execution_count": 5,
   "metadata": {},
   "outputs": [],
   "source": [
    "df[\"DayOfWeek\"] = df[\"date\"].dt.day_name()"
   ]
  },
  {
   "cell_type": "code",
   "execution_count": 6,
   "metadata": {},
   "outputs": [],
   "source": [
    "df[\"hour\"] = df[\"date\"].dt.hour"
   ]
  },
  {
   "cell_type": "code",
   "execution_count": 7,
   "metadata": {
    "scrolled": true
   },
   "outputs": [
    {
     "data": {
      "text/html": [
       "<div>\n",
       "<style scoped>\n",
       "    .dataframe tbody tr th:only-of-type {\n",
       "        vertical-align: middle;\n",
       "    }\n",
       "\n",
       "    .dataframe tbody tr th {\n",
       "        vertical-align: top;\n",
       "    }\n",
       "\n",
       "    .dataframe thead th {\n",
       "        text-align: right;\n",
       "    }\n",
       "</style>\n",
       "<table border=\"1\" class=\"dataframe\">\n",
       "  <thead>\n",
       "    <tr style=\"text-align: right;\">\n",
       "      <th></th>\n",
       "      <th>open</th>\n",
       "      <th>high</th>\n",
       "      <th>low</th>\n",
       "      <th>close</th>\n",
       "      <th>volume</th>\n",
       "      <th>DayOfWeek</th>\n",
       "      <th>hour</th>\n",
       "    </tr>\n",
       "  </thead>\n",
       "  <tbody>\n",
       "    <tr>\n",
       "      <th>0</th>\n",
       "      <td>1.10101</td>\n",
       "      <td>1.10102</td>\n",
       "      <td>1.10097</td>\n",
       "      <td>1.10101</td>\n",
       "      <td>34</td>\n",
       "      <td>Friday</td>\n",
       "      <td>6</td>\n",
       "    </tr>\n",
       "    <tr>\n",
       "      <th>1</th>\n",
       "      <td>1.10100</td>\n",
       "      <td>1.10101</td>\n",
       "      <td>1.10097</td>\n",
       "      <td>1.10100</td>\n",
       "      <td>80</td>\n",
       "      <td>Friday</td>\n",
       "      <td>6</td>\n",
       "    </tr>\n",
       "    <tr>\n",
       "      <th>2</th>\n",
       "      <td>1.10099</td>\n",
       "      <td>1.10102</td>\n",
       "      <td>1.10099</td>\n",
       "      <td>1.10100</td>\n",
       "      <td>29</td>\n",
       "      <td>Friday</td>\n",
       "      <td>6</td>\n",
       "    </tr>\n",
       "    <tr>\n",
       "      <th>3</th>\n",
       "      <td>1.10100</td>\n",
       "      <td>1.10101</td>\n",
       "      <td>1.10100</td>\n",
       "      <td>1.10101</td>\n",
       "      <td>14</td>\n",
       "      <td>Friday</td>\n",
       "      <td>6</td>\n",
       "    </tr>\n",
       "    <tr>\n",
       "      <th>4</th>\n",
       "      <td>1.10101</td>\n",
       "      <td>1.10105</td>\n",
       "      <td>1.10100</td>\n",
       "      <td>1.10102</td>\n",
       "      <td>18</td>\n",
       "      <td>Friday</td>\n",
       "      <td>6</td>\n",
       "    </tr>\n",
       "    <tr>\n",
       "      <th>...</th>\n",
       "      <td>...</td>\n",
       "      <td>...</td>\n",
       "      <td>...</td>\n",
       "      <td>...</td>\n",
       "      <td>...</td>\n",
       "      <td>...</td>\n",
       "      <td>...</td>\n",
       "    </tr>\n",
       "    <tr>\n",
       "      <th>995</th>\n",
       "      <td>1.10213</td>\n",
       "      <td>1.10213</td>\n",
       "      <td>1.10211</td>\n",
       "      <td>1.10211</td>\n",
       "      <td>2</td>\n",
       "      <td>Sunday</td>\n",
       "      <td>22</td>\n",
       "    </tr>\n",
       "    <tr>\n",
       "      <th>996</th>\n",
       "      <td>1.10212</td>\n",
       "      <td>1.10213</td>\n",
       "      <td>1.10210</td>\n",
       "      <td>1.10213</td>\n",
       "      <td>17</td>\n",
       "      <td>Sunday</td>\n",
       "      <td>22</td>\n",
       "    </tr>\n",
       "    <tr>\n",
       "      <th>997</th>\n",
       "      <td>1.10213</td>\n",
       "      <td>1.10213</td>\n",
       "      <td>1.10211</td>\n",
       "      <td>1.10211</td>\n",
       "      <td>2</td>\n",
       "      <td>Sunday</td>\n",
       "      <td>22</td>\n",
       "    </tr>\n",
       "    <tr>\n",
       "      <th>998</th>\n",
       "      <td>1.10210</td>\n",
       "      <td>1.10210</td>\n",
       "      <td>1.10210</td>\n",
       "      <td>1.10210</td>\n",
       "      <td>13</td>\n",
       "      <td>Sunday</td>\n",
       "      <td>22</td>\n",
       "    </tr>\n",
       "    <tr>\n",
       "      <th>999</th>\n",
       "      <td>1.10210</td>\n",
       "      <td>1.10210</td>\n",
       "      <td>1.10210</td>\n",
       "      <td>1.10210</td>\n",
       "      <td>81</td>\n",
       "      <td>Sunday</td>\n",
       "      <td>22</td>\n",
       "    </tr>\n",
       "  </tbody>\n",
       "</table>\n",
       "<p>1000 rows × 7 columns</p>\n",
       "</div>"
      ],
      "text/plain": [
       "        open     high      low    close  volume DayOfWeek  hour\n",
       "0    1.10101  1.10102  1.10097  1.10101      34    Friday     6\n",
       "1    1.10100  1.10101  1.10097  1.10100      80    Friday     6\n",
       "2    1.10099  1.10102  1.10099  1.10100      29    Friday     6\n",
       "3    1.10100  1.10101  1.10100  1.10101      14    Friday     6\n",
       "4    1.10101  1.10105  1.10100  1.10102      18    Friday     6\n",
       "..       ...      ...      ...      ...     ...       ...   ...\n",
       "995  1.10213  1.10213  1.10211  1.10211       2    Sunday    22\n",
       "996  1.10212  1.10213  1.10210  1.10213      17    Sunday    22\n",
       "997  1.10213  1.10213  1.10211  1.10211       2    Sunday    22\n",
       "998  1.10210  1.10210  1.10210  1.10210      13    Sunday    22\n",
       "999  1.10210  1.10210  1.10210  1.10210      81    Sunday    22\n",
       "\n",
       "[1000 rows x 7 columns]"
      ]
     },
     "execution_count": 7,
     "metadata": {},
     "output_type": "execute_result"
    }
   ],
   "source": [
    "df.iloc[0:1000, 1:]"
   ]
  },
  {
   "cell_type": "code",
   "execution_count": 8,
   "metadata": {
    "scrolled": true
   },
   "outputs": [
    {
     "data": {
      "text/plain": [
       "<matplotlib.axes._subplots.AxesSubplot at 0x238159616d0>"
      ]
     },
     "execution_count": 8,
     "metadata": {},
     "output_type": "execute_result"
    },
    {
     "data": {
      "image/png": "[encoded data removed]",
      "text/plain": [
       "<Figure size 432x288 with 1 Axes>"
      ]
     },
     "metadata": {
      "needs_background": "light"
     },
     "output_type": "display_data"
    }
   ],
   "source": [
    "df.iloc[::1000, 1:5].plot()"
   ]
  },
  {
   "cell_type": "code",
   "execution_count": null,
   "metadata": {},
   "outputs": [],
   "source": [
    " "
   ]
  }
 ],
 "metadata": {
  "kernelspec": {
   "display_name": "Python 3",
   "language": "python",
   "name": "python3"
  },
  "language_info": {
   "codemirror_mode": {
    "name": "ipython",
    "version": 3
   },
   "file_extension": ".py",
   "mimetype": "text/x-python",
   "name": "python",
   "nbconvert_exporter": "python",
   "pygments_lexer": "ipython3",
   "version": "3.8.1"
  }
 },
 "nbformat": 4,
 "nbformat_minor": 4
}
